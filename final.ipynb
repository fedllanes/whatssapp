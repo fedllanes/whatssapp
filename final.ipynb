{
 "cells": [
  {
   "cell_type": "markdown",
   "metadata": {},
   "source": [
    "## whatsapp chat analyzer. From an exported .txt file, it can do some analysis. \n",
    "<br>\n",
    "<br>\n",
    "For example, who sends more messages, more audios, videos, etc.\n",
    "<br>\n",
    "<br>\n",
    "The way we'll work with them is very simple, Whatsapp allows you to export chats into a .zip file that contains a .txt file with all of your chats, they have the following format.\n",
    "<br>\n",
    "<br>\n",
    "[06/04/2020, 20:04:20] Sasha: Hi\n",
    "[06/04/2020, 20:04:42] Fede: 😒😒😒\n",
    "[06/04/2020, 20:04:57] Fede: image omitted\n",
    "<br>\n",
    "<br>\n",
    "Whereas Android phones tend to have the following format.\n",
    "<br>\n",
    "<br>\n",
    "9/1/18 15:00 - Federico: Ahhhh\n",
    "<br>\n",
    "<br>\n",
    "This piece of code works best with iOS since android phones don't spit out nearly as much information.\n",
    "<br>\n",
    "<br>\n",
    "There's the date, the name of the sender, and the message itself. Notice that when the message was an audio, image or video file, it will just say \"Image omitted\"(If the lenguage is not english, it'll write out the same message in a different language)\n",
    "\n"
   ]
  },
  {
   "cell_type": "code",
   "execution_count": 22,
   "metadata": {},
   "outputs": [],
   "source": [
    "##THE DIRECTORY WHERE THE TXT FILE IS LOCATED.\n",
    "file_name =\"chat_prueba.txt\""
   ]
  },
  {
   "cell_type": "code",
   "execution_count": 23,
   "metadata": {},
   "outputs": [],
   "source": [
    "import pandas as pd\n",
    "import numpy as np\n",
    "import math\n",
    "pd.set_option('mode.chained_assignment', None) #"
   ]
  },
  {
   "cell_type": "markdown",
   "metadata": {},
   "source": [
    "As we've seen before, the format of the program has the following format.\n",
    "\n",
    "[06/04/2020, 20:04:20] Sasha: Hi\n",
    "\n",
    "From this, we have to extract the date, the time, the name of the sender and the message itself. It's quite complicated to make it work in every single format that different phones could have, but the following code worked in all the ones I've tried."
   ]
  },
  {
   "cell_type": "code",
   "execution_count": 24,
   "metadata": {},
   "outputs": [],
   "source": [
    "import io\n",
    "import re\n",
    "\n",
    "def read_file(name):\n",
    "    \n",
    "#Here we read the txt file, while ignoring non ascii characters\n",
    "    f = io.open(name, mode=\"r\", encoding=\"utf-8\",errors=\"ignore\")\n",
    "    x = f.read().split('\\n') #We split on the \\n, which isn't perfect, because it can sometimes show up in texts.\n",
    "    x = x[0:(len(x)-1)] #Deletes the last empty element\n",
    "    return x"
   ]
  },
  {
   "cell_type": "code",
   "execution_count": 25,
   "metadata": {},
   "outputs": [],
   "source": [
    "#From the TXT file we will create a pandas dataframe.\n",
    "def create_list(file):\n",
    "    new_list = [] #The list of lists to be converted to a df\n",
    "    ### The four different elements to be contained by the df.\n",
    "    date_message = [] \n",
    "    sender = []\n",
    "    text = []\n",
    "    time_message = []\n",
    "    #Here what we do is, we iterate through every element, and we split it into different pieces. The date, the sender and the message itself\n",
    "    #Lastly we also add the hour when the message was sent.\n",
    "    for element in x:\n",
    "        problematic_characters = [\"\\u200f\",\"\\u200e\",\"- \"] #To avoid compatibility issues\n",
    "        for character in problematic_characters:\n",
    "            element = element.replace(character,\"\")\n",
    "        split = element.split(\" \",2)\n",
    "        \n",
    "        new_list.append(split)\n",
    "    df = pd.DataFrame(new_list, columns = [\"date\",\"time\",\"sender_text\"])\n",
    "    problematic_characters = [\"[\",\"]\",\"\\u200f\",\"\\u200e\",\",\",\"-\"]\n",
    "    df[\"sender\"] = df[\"sender_text\"].str.split(\":\",1).str[0] #WE get all the info before the first :, which denotes the name of the sender\n",
    "    df[\"text\"] = df[\"sender_text\"].str.split(\":\",1).str[1] #AFter it' we'll just get the message\n",
    "    df = df.drop([\"sender_text\"], axis=1)\n",
    "    for character in problematic_characters:\n",
    "        df[\"sender\"] = df[\"sender\"].str.replace(character,\"\")\n",
    "        df[\"time\"] = df[\"time\"].str.replace(character,\"\")\n",
    "        df[\"date\"] = df[\"date\"].str.replace(character,\"\")\n",
    "        \n",
    "                \n",
    "    #return date_message         \n",
    "    return df"
   ]
  },
  {
   "cell_type": "code",
   "execution_count": 26,
   "metadata": {},
   "outputs": [],
   "source": [
    "x = read_file(file_name) #Open up the file\n",
    "df = create_list(x) #Make it into a df"
   ]
  },
  {
   "cell_type": "code",
   "execution_count": 27,
   "metadata": {},
   "outputs": [
    {
     "data": {
      "text/html": [
       "<div>\n",
       "<style scoped>\n",
       "    .dataframe tbody tr th:only-of-type {\n",
       "        vertical-align: middle;\n",
       "    }\n",
       "\n",
       "    .dataframe tbody tr th {\n",
       "        vertical-align: top;\n",
       "    }\n",
       "\n",
       "    .dataframe thead th {\n",
       "        text-align: right;\n",
       "    }\n",
       "</style>\n",
       "<table border=\"1\" class=\"dataframe\">\n",
       "  <thead>\n",
       "    <tr style=\"text-align: right;\">\n",
       "      <th></th>\n",
       "      <th>date</th>\n",
       "      <th>time</th>\n",
       "      <th>sender</th>\n",
       "      <th>text</th>\n",
       "    </tr>\n",
       "  </thead>\n",
       "  <tbody>\n",
       "    <tr>\n",
       "      <th>0</th>\n",
       "      <td>07/01/2017</td>\n",
       "      <td>16:49:21</td>\n",
       "      <td>Ullua</td>\n",
       "      <td>Messages and calls are end-to-end encrypted. ...</td>\n",
       "    </tr>\n",
       "    <tr>\n",
       "      <th>1</th>\n",
       "      <td>07/01/2017</td>\n",
       "      <td>16:49:22</td>\n",
       "      <td>Fede</td>\n",
       "      <td>Hola, ¿Cómo va?</td>\n",
       "    </tr>\n",
       "    <tr>\n",
       "      <th>2</th>\n",
       "      <td>07/01/2017</td>\n",
       "      <td>20:34:29</td>\n",
       "      <td>Ullua</td>\n",
       "      <td>bien man</td>\n",
       "    </tr>\n",
       "    <tr>\n",
       "      <th>3</th>\n",
       "      <td>07/01/2017</td>\n",
       "      <td>20:37:56</td>\n",
       "      <td>Ullua</td>\n",
       "      <td>se ve que hace un poquito de frío ahí jajaja</td>\n",
       "    </tr>\n",
       "    <tr>\n",
       "      <th>4</th>\n",
       "      <td>07/01/2017</td>\n",
       "      <td>20:38:16</td>\n",
       "      <td>Ullua</td>\n",
       "      <td>Cómo la estás pasando?</td>\n",
       "    </tr>\n",
       "  </tbody>\n",
       "</table>\n",
       "</div>"
      ],
      "text/plain": [
       "         date      time sender  \\\n",
       "0  07/01/2017  16:49:21  Ullua   \n",
       "1  07/01/2017  16:49:22   Fede   \n",
       "2  07/01/2017  20:34:29  Ullua   \n",
       "3  07/01/2017  20:37:56  Ullua   \n",
       "4  07/01/2017  20:38:16  Ullua   \n",
       "\n",
       "                                                text  \n",
       "0   Messages and calls are end-to-end encrypted. ...  \n",
       "1                                    Hola, ¿Cómo va?  \n",
       "2                                           bien man  \n",
       "3       se ve que hace un poquito de frío ahí jajaja  \n",
       "4                             Cómo la estás pasando?  "
      ]
     },
     "execution_count": 27,
     "metadata": {},
     "output_type": "execute_result"
    }
   ],
   "source": [
    "df.head()"
   ]
  },
  {
   "cell_type": "code",
   "execution_count": 28,
   "metadata": {},
   "outputs": [],
   "source": [
    "users = df[\"sender\"].value_counts()[0:2].index.tolist() #We make sure to only use\n",
    "#the two most important values, if you copy a text, it may show up as a separate message. Also, if there's a new line,\n",
    "#it will try to interpret it as a text message, we make sure to get rid of all that.\n",
    "df = df[df[\"sender\"].isin(users)]"
   ]
  },
  {
   "cell_type": "code",
   "execution_count": 29,
   "metadata": {},
   "outputs": [],
   "source": [
    "# We create a boolean to detect audios,videos,images,stickers, etc.\n",
    "df[\"audio\"] = np.where(df[\"text\"] == ' audio omitted',True,False)\n",
    "df[\"videos\"] = np.where(df[\"text\"] == ' video omitted',True,False)\n",
    "df[\"images\"] = np.where(df[\"text\"] == ' image omitted',True,False)\n",
    "df[\"sticker\"] = np.where(df[\"text\"] == ' sticker omitted',True,False)\n",
    "df[\"android\"] = np.where(df[\"text\"] == ' multimedia omitted',True,False)\n",
    "df[\"messages\"] = 1\n",
    "df[\"lenght_message\"] = list(map(len,df[\"text\"])) #To get the number of characters, we apply the len function to each one of the texts"
   ]
  },
  {
   "cell_type": "markdown",
   "metadata": {},
   "source": [
    "Once we have all the relevant columns, we group by the senders name, and sum it up to see who sent more audios, messages, etc."
   ]
  },
  {
   "cell_type": "code",
   "execution_count": 30,
   "metadata": {},
   "outputs": [],
   "source": [
    "grouped = df.groupby(\"sender\").sum()\n",
    "grouped = grouped[grouped > 0].dropna(axis=1,how=\"all\") #We sure sure to delete the colums with 0s\n",
    "grouped = grouped.fillna(0).astype(int) #if there's any nas remaining, we replace them with zeros"
   ]
  },
  {
   "cell_type": "code",
   "execution_count": 31,
   "metadata": {},
   "outputs": [
    {
     "data": {
      "text/html": [
       "<div>\n",
       "<style scoped>\n",
       "    .dataframe tbody tr th:only-of-type {\n",
       "        vertical-align: middle;\n",
       "    }\n",
       "\n",
       "    .dataframe tbody tr th {\n",
       "        vertical-align: top;\n",
       "    }\n",
       "\n",
       "    .dataframe thead th {\n",
       "        text-align: right;\n",
       "    }\n",
       "</style>\n",
       "<table border=\"1\" class=\"dataframe\">\n",
       "  <thead>\n",
       "    <tr style=\"text-align: right;\">\n",
       "      <th></th>\n",
       "      <th>audio</th>\n",
       "      <th>videos</th>\n",
       "      <th>images</th>\n",
       "      <th>sticker</th>\n",
       "      <th>messages</th>\n",
       "      <th>lenght_message</th>\n",
       "    </tr>\n",
       "    <tr>\n",
       "      <th>sender</th>\n",
       "      <th></th>\n",
       "      <th></th>\n",
       "      <th></th>\n",
       "      <th></th>\n",
       "      <th></th>\n",
       "      <th></th>\n",
       "    </tr>\n",
       "  </thead>\n",
       "  <tbody>\n",
       "    <tr>\n",
       "      <th>Fede</th>\n",
       "      <td>5809</td>\n",
       "      <td>110</td>\n",
       "      <td>1312</td>\n",
       "      <td>54</td>\n",
       "      <td>30790</td>\n",
       "      <td>587746</td>\n",
       "    </tr>\n",
       "    <tr>\n",
       "      <th>Ullua</th>\n",
       "      <td>7315</td>\n",
       "      <td>57</td>\n",
       "      <td>1341</td>\n",
       "      <td>58</td>\n",
       "      <td>31954</td>\n",
       "      <td>681780</td>\n",
       "    </tr>\n",
       "  </tbody>\n",
       "</table>\n",
       "</div>"
      ],
      "text/plain": [
       "        audio  videos  images  sticker  messages  lenght_message\n",
       "sender                                                          \n",
       "Fede     5809     110    1312       54     30790          587746\n",
       "Ullua    7315      57    1341       58     31954          681780"
      ]
     },
     "execution_count": 31,
     "metadata": {},
     "output_type": "execute_result"
    }
   ],
   "source": [
    "grouped"
   ]
  },
  {
   "cell_type": "markdown",
   "metadata": {},
   "source": [
    "Here we will plot all the information in the grouped dataframe."
   ]
  },
  {
   "cell_type": "code",
   "execution_count": 32,
   "metadata": {},
   "outputs": [
    {
     "data": {
      "text/plain": [
       "array([[<matplotlib.axes._subplots.AxesSubplot object at 0x7fc8dadf1c40>,\n",
       "        <matplotlib.axes._subplots.AxesSubplot object at 0x7fc8dbd620a0>,\n",
       "        <matplotlib.axes._subplots.AxesSubplot object at 0x7fc8da29dd90>],\n",
       "       [<matplotlib.axes._subplots.AxesSubplot object at 0x7fc8db94d520>,\n",
       "        <matplotlib.axes._subplots.AxesSubplot object at 0x7fc8db4756a0>,\n",
       "        <matplotlib.axes._subplots.AxesSubplot object at 0x7fc8dbe32730>]],\n",
       "      dtype=object)"
      ]
     },
     "execution_count": 32,
     "metadata": {},
     "output_type": "execute_result"
    },
    {
     "data": {
      "image/png": "[encoded data removed]",
      "text/plain": [
       "<Figure size 1152x720 with 6 Axes>"
      ]
     },
     "metadata": {
      "needs_background": "light"
     },
     "output_type": "display_data"
    }
   ],
   "source": [
    "grouped.plot.bar(subplots=True,figsize=(16, 10),layout = (2 , math.ceil(grouped.shape[1]/2)))"
   ]
  },
  {
   "cell_type": "markdown",
   "metadata": {},
   "source": [
    "A problem I've encountered converting the date to a pandas time element, is that it struggles when the format is not the US format.\n",
    "Since I don't know the origin of the exported chat, we will use the following code to detect whether the day comes first or not. For that, we will grab the first two characters, and see if any of the elements is higher than 12, meaning we're dealing with days."
   ]
  },
  {
   "cell_type": "code",
   "execution_count": 33,
   "metadata": {},
   "outputs": [],
   "source": [
    "day_month = df[\"date\"].str.get(0)+df[\"date\"].str.get(1)\n",
    "day_month = day_month.str.replace('[^0-9]','') #Remove all non numberic characters\n",
    "if sum(day_month.astype(int) > 12) > 1:\n",
    "    day_first=True\n",
    "else:\n",
    "    day_first=False"
   ]
  },
  {
   "cell_type": "markdown",
   "metadata": {},
   "source": [
    "## TIME DATE.\n",
    "\n",
    "Most of the information above, was related to the messages themselves, who sent the most stickers, audios, messages, etc.\n",
    "\n",
    "The second part of this is about the most active moments in the chat, at what time do we chat the most? on what days? which months were the most active? etc."
   ]
  },
  {
   "cell_type": "code",
   "execution_count": 34,
   "metadata": {},
   "outputs": [],
   "source": [
    "#Fix problems when the time is of the format 16:41 instead of 16:41:00\n",
    "if len(df[\"time\"][0]) < 6:\n",
    "    df[\"time\"]=df[\"time\"]+df[\"time\"][0][-3]+\"00\" #We use string get 2 to keep the format"
   ]
  },
  {
   "cell_type": "code",
   "execution_count": 35,
   "metadata": {},
   "outputs": [],
   "source": [
    "df[\"date1\"] = pd.to_datetime(df[\"date\"],dayfirst=day_first) #we convert the date to a datetime element\n",
    "df[\"time1\"] = pd.to_timedelta(df[\"time\"]) #we convert time date to a timedelta element\n",
    "df[\"hours\"] = df[\"time1\"].dt.components['hours']#we extract the hours\n",
    "df[\"hours_full\"] = df[\"time1\"].dt.components['hours'] + df[\"time1\"].dt.components['minutes']/60\n",
    "df[\"weekday\"] = df[\"date1\"].dt.strftime(\"%w\").astype(\"int\") #We get the weekdays and convert them to integers\n",
    "df[\"month\"] = df[\"date1\"].dt.strftime(\"%m\").astype(\"int\") #We get the month and convert them to integers \n",
    "df[\"year\"] = df[\"date1\"].dt.strftime(\"%Y\").astype(\"int\") #We get the year and convert them to integers"
   ]
  },
  {
   "cell_type": "markdown",
   "metadata": {},
   "source": [
    "Once we have all the time information we need, we can group by all of them, to see which where the months, years, weekdays and hours where the chat was at the most active"
   ]
  },
  {
   "cell_type": "code",
   "execution_count": 36,
   "metadata": {},
   "outputs": [],
   "source": [
    "grouped_by_month = df.groupby(\"month\").sum()[\"messages\"]\n",
    "grouped_by_month= grouped_by_month.rename({1: 'January',2: \"February \",3:\"March\",4:\"April\",5:\"May\",6:\"June\",7:\"July\",8:\"August\",9:\"September\",10:\"October\",11:\"November\",12:\"December\"},axis=0)\n",
    "grouped_by_year = df.groupby(\"year\").sum()[\"messages\"]\n",
    "grouped_by_hour = df.groupby(\"hours\").sum()[\"messages\"]\n",
    "grouped_by_weekday = df.groupby(\"weekday\").sum()[\"messages\"]\n",
    "grouped_by_weekday= grouped_by_weekday.rename({1: 'Tuesday',2: \"Wednesday \",3:\"Thursday\",4:\"Friday\",5:\"Saturday\",6:\"Sunday\",0:\"Monday\"},axis=0)"
   ]
  },
  {
   "cell_type": "markdown",
   "metadata": {},
   "source": [
    "# PLOTTING ALL THE RELEVANT INFORMATION"
   ]
  },
  {
   "cell_type": "code",
   "execution_count": 37,
   "metadata": {},
   "outputs": [
    {
     "data": {
      "image/png": "[encoded data removed]",
      "text/plain": [
       "<Figure size 1440x720 with 4 Axes>"
      ]
     },
     "metadata": {
      "needs_background": "light"
     },
     "output_type": "display_data"
    }
   ],
   "source": [
    "import matplotlib.pyplot as plt\n",
    "from matplotlib.ticker import MaxNLocator\n",
    "#WE will make sure to normalize all the plots\n",
    "\n",
    "fig, [[axis1, axis2],[axis3, axis4]] = plt.subplots(2,2,figsize=(20,10))\n",
    "axis1.bar(grouped_by_hour.index,(grouped_by_hour*100/sum(grouped_by_hour)))\n",
    "axis1.set_xticks(grouped_by_hour.index)\n",
    "axis2.bar(grouped_by_weekday.index,(grouped_by_weekday*100/sum(grouped_by_weekday)))\n",
    "axis3.bar(grouped_by_month.index,(grouped_by_month*100/sum(grouped_by_month)))\n",
    "axis3.set_xticklabels(grouped_by_month.index,rotation=45)\n",
    "axis4.bar(grouped_by_year.index,(grouped_by_year*100/sum(grouped_by_year)))\n",
    "#axis4.set_xlim(min(grouped_by_year.index), max(grouped_by_year.index))\n",
    "axis4.xaxis.set_major_locator(MaxNLocator(integer=True)) #This is in order to avoid non integers ticks\n",
    "plt.show()\n"
   ]
  }
 ],
 "metadata": {
  "kernelspec": {
   "display_name": "Python 3",
   "language": "python",
   "name": "python3"
  },
  "language_info": {
   "codemirror_mode": {
    "name": "ipython",
    "version": 3
   },
   "file_extension": ".py",
   "mimetype": "text/x-python",
   "name": "python",
   "nbconvert_exporter": "python",
   "pygments_lexer": "ipython3",
   "version": "3.8.2"
  }
 },
 "nbformat": 4,
 "nbformat_minor": 4
}
